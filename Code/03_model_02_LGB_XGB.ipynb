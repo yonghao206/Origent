{
 "cells": [
  {
   "cell_type": "markdown",
   "metadata": {
    "toc": true
   },
   "source": [
    "<h1>Table of Contents<span class=\"tocSkip\"></span></h1>\n",
    "<div class=\"toc\"><ul class=\"toc-item\"><li><span><a href=\"#Load-Data-and-Packages\" data-toc-modified-id=\"Load-Data-and-Packages-1\"><span class=\"toc-item-num\">1&nbsp;&nbsp;</span>Load Data and Packages</a></span></li><li><span><a href=\"#Model\" data-toc-modified-id=\"Model-2\"><span class=\"toc-item-num\">2&nbsp;&nbsp;</span>Model</a></span><ul class=\"toc-item\"><li><span><a href=\"#Data-Selection-and-Data-Split\" data-toc-modified-id=\"Data-Selection-and-Data-Split-2.1\"><span class=\"toc-item-num\">2.1&nbsp;&nbsp;</span>Data Selection and Data Split</a></span></li><li><span><a href=\"#XGB-&amp;-LGB\" data-toc-modified-id=\"XGB-&amp;-LGB-2.2\"><span class=\"toc-item-num\">2.2&nbsp;&nbsp;</span>XGB &amp; LGB</a></span></li></ul></li><li><span><a href=\"#output-Train-and-Test-Files\" data-toc-modified-id=\"output-Train-and-Test-Files-3\"><span class=\"toc-item-num\">3&nbsp;&nbsp;</span>output Train and Test Files</a></span><ul class=\"toc-item\"><li><span><a href=\"#output-Train-predicted-result\" data-toc-modified-id=\"output-Train-predicted-result-3.1\"><span class=\"toc-item-num\">3.1&nbsp;&nbsp;</span>output Train predicted result</a></span></li><li><span><a href=\"#output-Test-predicted-result\" data-toc-modified-id=\"output-Test-predicted-result-3.2\"><span class=\"toc-item-num\">3.2&nbsp;&nbsp;</span>output Test predicted result</a></span></li></ul></li></ul></div>"
   ]
  },
  {
   "cell_type": "markdown",
   "metadata": {},
   "source": [
    "# Load Data and Packages"
   ]
  },
  {
   "cell_type": "code",
   "execution_count": 1,
   "metadata": {
    "ExecuteTime": {
     "end_time": "2019-05-04T17:16:25.129174Z",
     "start_time": "2019-05-04T17:16:24.170751Z"
    }
   },
   "outputs": [],
   "source": [
    "import warnings\n",
    "warnings.filterwarnings(\"ignore\")\n",
    "\n",
    "import numpy as np\n",
    "import pandas as pd\n",
    "\n",
    "from sklearn.metrics import mean_squared_error\n",
    "from sklearn.model_selection import KFold\n",
    "from math import sqrt\n",
    "import lightgbm as lgb\n",
    "import xgboost as xgb\n",
    "from sklearn.metrics import mean_squared_error\n",
    "from sklearn.metrics import r2_score\n",
    "from tqdm import tqdm_notebook as tqdm\n",
    "\n",
    "from sklearn.linear_model import LinearRegression"
   ]
  },
  {
   "cell_type": "code",
   "execution_count": 2,
   "metadata": {
    "ExecuteTime": {
     "end_time": "2019-05-04T17:16:26.631702Z",
     "start_time": "2019-05-04T17:16:26.120099Z"
    }
   },
   "outputs": [],
   "source": [
    "df = pd.read_csv('./output/data_processed_0411.csv',index_col=None)\n",
    "label = 'r_alsfrs_r_total'\n",
    "df_pro = df[df.set==1]\n",
    "df_test = df[df.set==0]\n",
    "feature_selected = df_pro.columns.tolist()\n",
    "feature_selected.remove('pid')\n",
    "feature_selected.remove(label)\n",
    "feature_selected.remove('set')"
   ]
  },
  {
   "cell_type": "markdown",
   "metadata": {},
   "source": [
    "# Model"
   ]
  },
  {
   "cell_type": "markdown",
   "metadata": {},
   "source": [
    "## Data Selection and Data Split"
   ]
  },
  {
   "cell_type": "code",
   "execution_count": 3,
   "metadata": {
    "ExecuteTime": {
     "end_time": "2019-05-04T17:16:27.471489Z",
     "start_time": "2019-05-04T17:16:27.441536Z"
    }
   },
   "outputs": [],
   "source": [
    "# used to split data based on patient id\n",
    "pid_list = list(set(df_pro['pid']))\n",
    "mylist = []\n",
    "np.random.seed(10)\n",
    "for k in range(0, (len(pid_list))):\n",
    "    x = np.random.randint(0, 10)\n",
    "    mylist.append(x)     \n",
    "columns = ['pid', 'cv_cohort']\n",
    "cohort = pd.DataFrame(columns=columns)\n",
    "cohort['pid'] = pid_list\n",
    "cohort['cv_cohort'] = mylist"
   ]
  },
  {
   "cell_type": "markdown",
   "metadata": {},
   "source": [
    "## XGB & LGB"
   ]
  },
  {
   "cell_type": "code",
   "execution_count": 4,
   "metadata": {
    "ExecuteTime": {
     "end_time": "2019-05-04T17:17:50.455905Z",
     "start_time": "2019-05-04T17:16:28.289296Z"
    },
    "code_folding": [],
    "scrolled": true
   },
   "outputs": [
    {
     "name": "stdout",
     "output_type": "stream",
     "text": [
      "[0]\ttrain-rmse:31.9422\ttest-rmse:31.5494\n",
      "Multiple eval metrics have been passed: 'test-rmse' will be used for early stopping.\n",
      "\n",
      "Will train until test-rmse hasn't improved in 100 rounds.\n",
      "[50]\ttrain-rmse:5.57846\ttest-rmse:5.55736\n",
      "[100]\ttrain-rmse:4.65995\ttest-rmse:4.98389\n",
      "[150]\ttrain-rmse:4.51428\ttest-rmse:4.96487\n",
      "[200]\ttrain-rmse:4.40998\ttest-rmse:4.97564\n",
      "Stopping. Best iteration:\n",
      "[148]\ttrain-rmse:4.52031\ttest-rmse:4.96136\n",
      "\n",
      "Training until validation scores don't improve for 100 rounds.\n",
      "[100]\ttraining's rmse: 4.65374\tvalid_1's rmse: 4.93203\n",
      "[200]\ttraining's rmse: 4.36249\tvalid_1's rmse: 4.8814\n",
      "[300]\ttraining's rmse: 4.17829\tvalid_1's rmse: 4.89554\n",
      "Early stopping, best iteration is:\n",
      "[208]\ttraining's rmse: 4.34604\tvalid_1's rmse: 4.88093\n"
     ]
    },
    {
     "data": {
      "text/plain": [
       "LGBMRegressor(boosting_type='gbdt', class_weight=None, colsample_bytree=0.9,\n",
       "       learning_rate=0.05, max_depth=7, min_child_samples=20,\n",
       "       min_child_weight=0.001, min_split_gain=0.0, n_estimators=30000,\n",
       "       n_jobs=-1, num_leaves=7, objective=None, random_state=42,\n",
       "       reg_alpha=0.5, reg_lambda=0.3, silent=True, subsample=0.8,\n",
       "       subsample_for_bin=200000, subsample_freq=1)"
      ]
     },
     "execution_count": 4,
     "metadata": {},
     "output_type": "execute_result"
    },
    {
     "name": "stdout",
     "output_type": "stream",
     "text": [
      "[0]\ttrain-rmse:31.944\ttest-rmse:31.5519\n",
      "Multiple eval metrics have been passed: 'test-rmse' will be used for early stopping.\n",
      "\n",
      "Will train until test-rmse hasn't improved in 100 rounds.\n",
      "[50]\ttrain-rmse:5.57178\ttest-rmse:5.6005\n",
      "[100]\ttrain-rmse:4.64653\ttest-rmse:4.90764\n",
      "[150]\ttrain-rmse:4.49262\ttest-rmse:4.88575\n",
      "[200]\ttrain-rmse:4.39203\ttest-rmse:4.87908\n",
      "[250]\ttrain-rmse:4.30928\ttest-rmse:4.87453\n",
      "[300]\ttrain-rmse:4.23038\ttest-rmse:4.87286\n",
      "Stopping. Best iteration:\n",
      "[230]\ttrain-rmse:4.34133\ttest-rmse:4.86993\n",
      "\n",
      "Training until validation scores don't improve for 100 rounds.\n",
      "[100]\ttraining's rmse: 4.64004\tvalid_1's rmse: 4.90622\n",
      "[200]\ttraining's rmse: 4.3569\tvalid_1's rmse: 4.88713\n",
      "[300]\ttraining's rmse: 4.17485\tvalid_1's rmse: 4.87742\n",
      "Early stopping, best iteration is:\n",
      "[255]\ttraining's rmse: 4.24942\tvalid_1's rmse: 4.86737\n"
     ]
    },
    {
     "data": {
      "text/plain": [
       "LGBMRegressor(boosting_type='gbdt', class_weight=None, colsample_bytree=0.9,\n",
       "       learning_rate=0.05, max_depth=7, min_child_samples=20,\n",
       "       min_child_weight=0.001, min_split_gain=0.0, n_estimators=30000,\n",
       "       n_jobs=-1, num_leaves=7, objective=None, random_state=42,\n",
       "       reg_alpha=0.5, reg_lambda=0.3, silent=True, subsample=0.8,\n",
       "       subsample_for_bin=200000, subsample_freq=1)"
      ]
     },
     "execution_count": 4,
     "metadata": {},
     "output_type": "execute_result"
    },
    {
     "name": "stdout",
     "output_type": "stream",
     "text": [
      "[0]\ttrain-rmse:31.8805\ttest-rmse:32.0356\n",
      "Multiple eval metrics have been passed: 'test-rmse' will be used for early stopping.\n",
      "\n",
      "Will train until test-rmse hasn't improved in 100 rounds.\n",
      "[50]\ttrain-rmse:5.56358\ttest-rmse:5.56728\n",
      "[100]\ttrain-rmse:4.6679\ttest-rmse:4.78142\n",
      "[150]\ttrain-rmse:4.52328\ttest-rmse:4.76216\n",
      "[200]\ttrain-rmse:4.42108\ttest-rmse:4.76105\n",
      "Stopping. Best iteration:\n",
      "[141]\ttrain-rmse:4.54564\ttest-rmse:4.75711\n",
      "\n",
      "Training until validation scores don't improve for 100 rounds.\n",
      "[100]\ttraining's rmse: 4.64909\tvalid_1's rmse: 4.82305\n",
      "[200]\ttraining's rmse: 4.36801\tvalid_1's rmse: 4.81147\n",
      "Early stopping, best iteration is:\n",
      "[152]\ttraining's rmse: 4.47777\tvalid_1's rmse: 4.79446\n"
     ]
    },
    {
     "data": {
      "text/plain": [
       "LGBMRegressor(boosting_type='gbdt', class_weight=None, colsample_bytree=0.9,\n",
       "       learning_rate=0.05, max_depth=7, min_child_samples=20,\n",
       "       min_child_weight=0.001, min_split_gain=0.0, n_estimators=30000,\n",
       "       n_jobs=-1, num_leaves=7, objective=None, random_state=42,\n",
       "       reg_alpha=0.5, reg_lambda=0.3, silent=True, subsample=0.8,\n",
       "       subsample_for_bin=200000, subsample_freq=1)"
      ]
     },
     "execution_count": 4,
     "metadata": {},
     "output_type": "execute_result"
    },
    {
     "name": "stdout",
     "output_type": "stream",
     "text": [
      "[0]\ttrain-rmse:31.8772\ttest-rmse:32.0402\n",
      "Multiple eval metrics have been passed: 'test-rmse' will be used for early stopping.\n",
      "\n",
      "Will train until test-rmse hasn't improved in 100 rounds.\n",
      "[50]\ttrain-rmse:5.53114\ttest-rmse:5.81416\n",
      "[100]\ttrain-rmse:4.62778\ttest-rmse:5.15189\n",
      "[150]\ttrain-rmse:4.48053\ttest-rmse:5.12952\n",
      "[200]\ttrain-rmse:4.37948\ttest-rmse:5.12342\n",
      "[250]\ttrain-rmse:4.30123\ttest-rmse:5.12205\n",
      "[300]\ttrain-rmse:4.22764\ttest-rmse:5.12101\n",
      "[350]\ttrain-rmse:4.16187\ttest-rmse:5.11325\n",
      "[400]\ttrain-rmse:4.10197\ttest-rmse:5.09968\n",
      "[450]\ttrain-rmse:4.04655\ttest-rmse:5.09844\n",
      "[500]\ttrain-rmse:3.98739\ttest-rmse:5.0988\n",
      "[550]\ttrain-rmse:3.93716\ttest-rmse:5.09684\n",
      "[600]\ttrain-rmse:3.88915\ttest-rmse:5.097\n",
      "[650]\ttrain-rmse:3.8431\ttest-rmse:5.10168\n",
      "Stopping. Best iteration:\n",
      "[555]\ttrain-rmse:3.93261\ttest-rmse:5.09128\n",
      "\n",
      "Training until validation scores don't improve for 100 rounds.\n",
      "[100]\ttraining's rmse: 4.61921\tvalid_1's rmse: 5.1659\n",
      "[200]\ttraining's rmse: 4.34634\tvalid_1's rmse: 5.13739\n",
      "[300]\ttraining's rmse: 4.15636\tvalid_1's rmse: 5.09556\n",
      "[400]\ttraining's rmse: 4.00671\tvalid_1's rmse: 5.11191\n",
      "Early stopping, best iteration is:\n",
      "[317]\ttraining's rmse: 4.13164\tvalid_1's rmse: 5.0923\n"
     ]
    },
    {
     "data": {
      "text/plain": [
       "LGBMRegressor(boosting_type='gbdt', class_weight=None, colsample_bytree=0.9,\n",
       "       learning_rate=0.05, max_depth=7, min_child_samples=20,\n",
       "       min_child_weight=0.001, min_split_gain=0.0, n_estimators=30000,\n",
       "       n_jobs=-1, num_leaves=7, objective=None, random_state=42,\n",
       "       reg_alpha=0.5, reg_lambda=0.3, silent=True, subsample=0.8,\n",
       "       subsample_for_bin=200000, subsample_freq=1)"
      ]
     },
     "execution_count": 4,
     "metadata": {},
     "output_type": "execute_result"
    },
    {
     "name": "stdout",
     "output_type": "stream",
     "text": [
      "[0]\ttrain-rmse:31.9726\ttest-rmse:31.1312\n",
      "Multiple eval metrics have been passed: 'test-rmse' will be used for early stopping.\n",
      "\n",
      "Will train until test-rmse hasn't improved in 100 rounds.\n",
      "[50]\ttrain-rmse:5.56046\ttest-rmse:5.79114\n",
      "[100]\ttrain-rmse:4.64771\ttest-rmse:5.06384\n",
      "[150]\ttrain-rmse:4.49771\ttest-rmse:4.99564\n",
      "[200]\ttrain-rmse:4.39399\ttest-rmse:4.95502\n",
      "[250]\ttrain-rmse:4.30646\ttest-rmse:4.93919\n",
      "[300]\ttrain-rmse:4.23131\ttest-rmse:4.92892\n",
      "[350]\ttrain-rmse:4.1665\ttest-rmse:4.91736\n",
      "[400]\ttrain-rmse:4.10997\ttest-rmse:4.93623\n",
      "Stopping. Best iteration:\n",
      "[342]\ttrain-rmse:4.1782\ttest-rmse:4.91207\n",
      "\n",
      "Training until validation scores don't improve for 100 rounds.\n",
      "[100]\ttraining's rmse: 4.63015\tvalid_1's rmse: 5.05566\n",
      "[200]\ttraining's rmse: 4.3502\tvalid_1's rmse: 4.95487\n",
      "[300]\ttraining's rmse: 4.16554\tvalid_1's rmse: 4.93782\n",
      "Early stopping, best iteration is:\n",
      "[275]\ttraining's rmse: 4.20953\tvalid_1's rmse: 4.93485\n"
     ]
    },
    {
     "data": {
      "text/plain": [
       "LGBMRegressor(boosting_type='gbdt', class_weight=None, colsample_bytree=0.9,\n",
       "       learning_rate=0.05, max_depth=7, min_child_samples=20,\n",
       "       min_child_weight=0.001, min_split_gain=0.0, n_estimators=30000,\n",
       "       n_jobs=-1, num_leaves=7, objective=None, random_state=42,\n",
       "       reg_alpha=0.5, reg_lambda=0.3, silent=True, subsample=0.8,\n",
       "       subsample_for_bin=200000, subsample_freq=1)"
      ]
     },
     "execution_count": 4,
     "metadata": {},
     "output_type": "execute_result"
    },
    {
     "name": "stdout",
     "output_type": "stream",
     "text": [
      "[0]\ttrain-rmse:31.8163\ttest-rmse:32.6977\n",
      "Multiple eval metrics have been passed: 'test-rmse' will be used for early stopping.\n",
      "\n",
      "Will train until test-rmse hasn't improved in 100 rounds.\n",
      "[50]\ttrain-rmse:5.58454\ttest-rmse:5.7477\n",
      "[100]\ttrain-rmse:4.681\ttest-rmse:4.83489\n",
      "[150]\ttrain-rmse:4.53577\ttest-rmse:4.81501\n",
      "[200]\ttrain-rmse:4.43778\ttest-rmse:4.82866\n",
      "Stopping. Best iteration:\n",
      "[126]\ttrain-rmse:4.59306\ttest-rmse:4.80952\n",
      "\n",
      "Training until validation scores don't improve for 100 rounds.\n",
      "[100]\ttraining's rmse: 4.66878\tvalid_1's rmse: 4.82982\n",
      "[200]\ttraining's rmse: 4.39825\tvalid_1's rmse: 4.78098\n",
      "Early stopping, best iteration is:\n",
      "[173]\ttraining's rmse: 4.45749\tvalid_1's rmse: 4.76532\n"
     ]
    },
    {
     "data": {
      "text/plain": [
       "LGBMRegressor(boosting_type='gbdt', class_weight=None, colsample_bytree=0.9,\n",
       "       learning_rate=0.05, max_depth=7, min_child_samples=20,\n",
       "       min_child_weight=0.001, min_split_gain=0.0, n_estimators=30000,\n",
       "       n_jobs=-1, num_leaves=7, objective=None, random_state=42,\n",
       "       reg_alpha=0.5, reg_lambda=0.3, silent=True, subsample=0.8,\n",
       "       subsample_for_bin=200000, subsample_freq=1)"
      ]
     },
     "execution_count": 4,
     "metadata": {},
     "output_type": "execute_result"
    },
    {
     "name": "stdout",
     "output_type": "stream",
     "text": [
      "[0]\ttrain-rmse:31.9086\ttest-rmse:31.7613\n",
      "Multiple eval metrics have been passed: 'test-rmse' will be used for early stopping.\n",
      "\n",
      "Will train until test-rmse hasn't improved in 100 rounds.\n",
      "[50]\ttrain-rmse:5.56114\ttest-rmse:5.61131\n",
      "[100]\ttrain-rmse:4.66296\ttest-rmse:4.90994\n",
      "[150]\ttrain-rmse:4.51631\ttest-rmse:4.85984\n",
      "[200]\ttrain-rmse:4.41319\ttest-rmse:4.83417\n",
      "[250]\ttrain-rmse:4.33055\ttest-rmse:4.81448\n",
      "[300]\ttrain-rmse:4.25379\ttest-rmse:4.82265\n",
      "Stopping. Best iteration:\n",
      "[242]\ttrain-rmse:4.34354\ttest-rmse:4.80695\n",
      "\n",
      "Training until validation scores don't improve for 100 rounds.\n",
      "[100]\ttraining's rmse: 4.6436\tvalid_1's rmse: 4.98556\n",
      "[200]\ttraining's rmse: 4.35492\tvalid_1's rmse: 4.88784\n",
      "[300]\ttraining's rmse: 4.17068\tvalid_1's rmse: 4.90069\n",
      "Early stopping, best iteration is:\n",
      "[214]\ttraining's rmse: 4.32484\tvalid_1's rmse: 4.88164\n"
     ]
    },
    {
     "data": {
      "text/plain": [
       "LGBMRegressor(boosting_type='gbdt', class_weight=None, colsample_bytree=0.9,\n",
       "       learning_rate=0.05, max_depth=7, min_child_samples=20,\n",
       "       min_child_weight=0.001, min_split_gain=0.0, n_estimators=30000,\n",
       "       n_jobs=-1, num_leaves=7, objective=None, random_state=42,\n",
       "       reg_alpha=0.5, reg_lambda=0.3, silent=True, subsample=0.8,\n",
       "       subsample_for_bin=200000, subsample_freq=1)"
      ]
     },
     "execution_count": 4,
     "metadata": {},
     "output_type": "execute_result"
    },
    {
     "name": "stdout",
     "output_type": "stream",
     "text": [
      "[0]\ttrain-rmse:31.898\ttest-rmse:31.9753\n",
      "Multiple eval metrics have been passed: 'test-rmse' will be used for early stopping.\n",
      "\n",
      "Will train until test-rmse hasn't improved in 100 rounds.\n",
      "[50]\ttrain-rmse:5.58366\ttest-rmse:5.6461\n",
      "[100]\ttrain-rmse:4.68452\ttest-rmse:4.76663\n",
      "[150]\ttrain-rmse:4.54066\ttest-rmse:4.72271\n",
      "[200]\ttrain-rmse:4.44016\ttest-rmse:4.69883\n",
      "[250]\ttrain-rmse:4.35316\ttest-rmse:4.69703\n",
      "[300]\ttrain-rmse:4.28288\ttest-rmse:4.70026\n",
      "Stopping. Best iteration:\n",
      "[230]\ttrain-rmse:4.39109\ttest-rmse:4.69079\n",
      "\n",
      "Training until validation scores don't improve for 100 rounds.\n",
      "[100]\ttraining's rmse: 4.67796\tvalid_1's rmse: 4.78665\n",
      "[200]\ttraining's rmse: 4.39388\tvalid_1's rmse: 4.75503\n",
      "Early stopping, best iteration is:\n",
      "[168]\ttraining's rmse: 4.46476\tvalid_1's rmse: 4.7507\n"
     ]
    },
    {
     "data": {
      "text/plain": [
       "LGBMRegressor(boosting_type='gbdt', class_weight=None, colsample_bytree=0.9,\n",
       "       learning_rate=0.05, max_depth=7, min_child_samples=20,\n",
       "       min_child_weight=0.001, min_split_gain=0.0, n_estimators=30000,\n",
       "       n_jobs=-1, num_leaves=7, objective=None, random_state=42,\n",
       "       reg_alpha=0.5, reg_lambda=0.3, silent=True, subsample=0.8,\n",
       "       subsample_for_bin=200000, subsample_freq=1)"
      ]
     },
     "execution_count": 4,
     "metadata": {},
     "output_type": "execute_result"
    },
    {
     "name": "stdout",
     "output_type": "stream",
     "text": [
      "[0]\ttrain-rmse:31.8823\ttest-rmse:32.0239\n",
      "Multiple eval metrics have been passed: 'test-rmse' will be used for early stopping.\n",
      "\n",
      "Will train until test-rmse hasn't improved in 100 rounds.\n",
      "[50]\ttrain-rmse:5.55877\ttest-rmse:5.63389\n",
      "[100]\ttrain-rmse:4.65865\ttest-rmse:4.9039\n",
      "[150]\ttrain-rmse:4.49869\ttest-rmse:4.87986\n",
      "[200]\ttrain-rmse:4.40013\ttest-rmse:4.87733\n",
      "[250]\ttrain-rmse:4.31432\ttest-rmse:4.87759\n",
      "[300]\ttrain-rmse:4.23935\ttest-rmse:4.86252\n",
      "[350]\ttrain-rmse:4.17856\ttest-rmse:4.85258\n",
      "[400]\ttrain-rmse:4.11545\ttest-rmse:4.85304\n",
      "Stopping. Best iteration:\n",
      "[343]\ttrain-rmse:4.18956\ttest-rmse:4.84903\n",
      "\n",
      "Training until validation scores don't improve for 100 rounds.\n",
      "[100]\ttraining's rmse: 4.65604\tvalid_1's rmse: 4.89033\n",
      "[200]\ttraining's rmse: 4.36148\tvalid_1's rmse: 4.85312\n",
      "Early stopping, best iteration is:\n",
      "[156]\ttraining's rmse: 4.46952\tvalid_1's rmse: 4.84555\n"
     ]
    },
    {
     "data": {
      "text/plain": [
       "LGBMRegressor(boosting_type='gbdt', class_weight=None, colsample_bytree=0.9,\n",
       "       learning_rate=0.05, max_depth=7, min_child_samples=20,\n",
       "       min_child_weight=0.001, min_split_gain=0.0, n_estimators=30000,\n",
       "       n_jobs=-1, num_leaves=7, objective=None, random_state=42,\n",
       "       reg_alpha=0.5, reg_lambda=0.3, silent=True, subsample=0.8,\n",
       "       subsample_for_bin=200000, subsample_freq=1)"
      ]
     },
     "execution_count": 4,
     "metadata": {},
     "output_type": "execute_result"
    },
    {
     "name": "stdout",
     "output_type": "stream",
     "text": [
      "[0]\ttrain-rmse:31.8739\ttest-rmse:32.1443\n",
      "Multiple eval metrics have been passed: 'test-rmse' will be used for early stopping.\n",
      "\n",
      "Will train until test-rmse hasn't improved in 100 rounds.\n",
      "[50]\ttrain-rmse:5.5444\ttest-rmse:6.0459\n",
      "[100]\ttrain-rmse:4.64067\ttest-rmse:5.21947\n",
      "[150]\ttrain-rmse:4.49298\ttest-rmse:5.15278\n",
      "[200]\ttrain-rmse:4.38752\ttest-rmse:5.11686\n",
      "[250]\ttrain-rmse:4.30381\ttest-rmse:5.09881\n",
      "[300]\ttrain-rmse:4.22961\ttest-rmse:5.08827\n",
      "[350]\ttrain-rmse:4.16052\ttest-rmse:5.0831\n",
      "[400]\ttrain-rmse:4.09791\ttest-rmse:5.07887\n",
      "[450]\ttrain-rmse:4.04008\ttest-rmse:5.08042\n",
      "[500]\ttrain-rmse:3.98754\ttest-rmse:5.07394\n",
      "[550]\ttrain-rmse:3.93904\ttest-rmse:5.06993\n",
      "Stopping. Best iteration:\n",
      "[474]\ttrain-rmse:4.01271\ttest-rmse:5.06671\n",
      "\n",
      "Training until validation scores don't improve for 100 rounds.\n",
      "[100]\ttraining's rmse: 4.62408\tvalid_1's rmse: 5.17632\n",
      "[200]\ttraining's rmse: 4.33688\tvalid_1's rmse: 5.06492\n",
      "[300]\ttraining's rmse: 4.15637\tvalid_1's rmse: 5.03421\n",
      "[400]\ttraining's rmse: 4.01056\tvalid_1's rmse: 5.02378\n",
      "[500]\ttraining's rmse: 3.87943\tvalid_1's rmse: 5.00835\n",
      "Early stopping, best iteration is:\n",
      "[489]\ttraining's rmse: 3.89309\tvalid_1's rmse: 5.00526\n"
     ]
    },
    {
     "data": {
      "text/plain": [
       "LGBMRegressor(boosting_type='gbdt', class_weight=None, colsample_bytree=0.9,\n",
       "       learning_rate=0.05, max_depth=7, min_child_samples=20,\n",
       "       min_child_weight=0.001, min_split_gain=0.0, n_estimators=30000,\n",
       "       n_jobs=-1, num_leaves=7, objective=None, random_state=42,\n",
       "       reg_alpha=0.5, reg_lambda=0.3, silent=True, subsample=0.8,\n",
       "       subsample_for_bin=200000, subsample_freq=1)"
      ]
     },
     "execution_count": 4,
     "metadata": {},
     "output_type": "execute_result"
    }
   ],
   "source": [
    "predicted_value_XGB = [ ]\n",
    "predicted_value_LGB = [ ]\n",
    "test_predicted_LGB = []\n",
    "test_predicted_XGB = []\n",
    "\n",
    "table = []\n",
    "# temp_train = pd.DataFrame()\n",
    "temp_test =pd.DataFrame()\n",
    "for i in range(10):\n",
    "    train_pid = cohort['pid'][cohort['cv_cohort'] != i]\n",
    "    test_pid = cohort['pid'][cohort['cv_cohort'] == i]\n",
    "    train = df_pro[df_pro['pid'].isin(train_pid)]\n",
    "    test = df_pro[df_pro['pid'].isin(test_pid)]\n",
    "    \n",
    "    train_x = train[feature_selected][:]\n",
    "    test_x = test[feature_selected][:]\n",
    "    train_y = train[label][:]\n",
    "    test_y = test[label][:]\n",
    "    temp_test = pd.concat([temp_test, test[['pid', 't', 'month', label]]])\n",
    "#     temp_train = pd.concat([temp_train, train[['pid', 't', 'month', label]]])\n",
    "    # XGBoost\n",
    "    dtrain=xgb.DMatrix(train_x,train_y)\n",
    "    dtest=xgb.DMatrix(test_x, test_y)\n",
    "    dvalid = xgb.DMatrix(df_test[feature_selected], df_test[label])\n",
    "    params = {\n",
    "    'booster': 'gbtree',\n",
    "    'objective':'reg:linear',\n",
    "    'max_depth':3, \n",
    "    'subsample': 0.6,\n",
    "    'colsample_bytree': 0.6,\n",
    "    'reg_alpha': 0.001,\n",
    "    'min_child_weight': 11,\n",
    "    'eta': 0.05,\n",
    "    'seed': 42,\n",
    "    'nthread': 4,\n",
    "    'metris':'rmse'\n",
    "    }\n",
    "\n",
    "    watchlist = [(dtrain,'train'),(dtest,'test')]\n",
    "    bst=xgb.train(params,dtrain,num_boost_round=10000, evals=watchlist, early_stopping_rounds=100, verbose_eval=50) \n",
    "    ypred_xgb=bst.predict(dtest)\n",
    "    test_predicted_XGB.append(bst.predict(dvalid))\n",
    "    # LGBRegressor\n",
    "    lgb_model = lgb.LGBMRegressor(random_state=42, max_depth=7,\n",
    "                                                            n_estimators=30000,\n",
    "                                                            learning_rate=0.05,\n",
    "                                                            num_leaves=7,\n",
    "                                                            colsample_bytree=0.9,\n",
    "                                                            subsample = 0.8,\n",
    "                                                            reg_alpha = 0.5,\n",
    "                                                            reg_lambda = 0.3,\n",
    "                                                            n_jobs=-1)\n",
    "\n",
    "    lgb_model.fit(train_x, train_y,\n",
    "                  eval_metric='rmse', \n",
    "                  eval_set=[(train_x, train_y), (test_x, test_y)], \n",
    "                  verbose=100, early_stopping_rounds=100)\n",
    "\n",
    "    ypred_lgb_sklearn = lgb_model.predict(test_x)\n",
    "    test_predicted_LGB.append(lgb_model.predict(df_test[feature_selected]))\n",
    "    \n",
    "    predicted_value_XGB.extend(ypred_xgb)\n",
    "    predicted_value_LGB.extend(ypred_lgb_sklearn)\n"
   ]
  },
  {
   "cell_type": "markdown",
   "metadata": {},
   "source": [
    "# output Train and Test Files"
   ]
  },
  {
   "cell_type": "markdown",
   "metadata": {},
   "source": [
    "## output Train predicted result"
   ]
  },
  {
   "cell_type": "code",
   "execution_count": 5,
   "metadata": {
    "ExecuteTime": {
     "end_time": "2019-05-04T17:17:51.594859Z",
     "start_time": "2019-05-04T17:17:51.508092Z"
    },
    "scrolled": true
   },
   "outputs": [],
   "source": [
    "# obtain predicted train value table \n",
    "DNN_result = pd.read_csv('./output/train_predicted_value_DNN.csv')\n",
    "DNN_result = DNN_result.sort_values(by=['pid','t']).reset_index(drop=True)\n",
    "temp_test['mod1_XGB'] = predicted_value_XGB\n",
    "temp_test['mod2_LGB'] = predicted_value_LGB\n",
    "temp_test_reset = temp_test.sort_values(by=['pid','t']).reset_index(drop=True)\n",
    "temp_test_reset['mod3_DNN'] = DNN_result['test_value']\n",
    "temp_test_reset = temp_test_reset.rename(columns={'r_alsfrs_r_total':'true'})"
   ]
  },
  {
   "cell_type": "code",
   "execution_count": 6,
   "metadata": {
    "ExecuteTime": {
     "end_time": "2019-05-04T17:17:53.491302Z",
     "start_time": "2019-05-04T17:17:52.805138Z"
    }
   },
   "outputs": [
    {
     "name": "stdout",
     "output_type": "stream",
     "text": [
      "Best Ratio for LGB 6, Best Ratio for XGB 3, Best Ratio for DNN 1, \n"
     ]
    }
   ],
   "source": [
    "# calculate best ratio for final result \n",
    "# output predicted data \n",
    "a = temp_test_reset.mod1_XGB\n",
    "b = temp_test_reset.mod2_LGB\n",
    "c = temp_test_reset.mod3_DNN\n",
    "\n",
    "best_ensemble_value =[10,0,0,0,0,0]\n",
    "best_ensemble_value ={'Best_RMSE':10}\n",
    "\n",
    "for i in range(11):\n",
    "    for j in range(11):\n",
    "        k = 10-(i+j)\n",
    "        if k>=0:\n",
    "            ensemble_value = 0.1*(a*i+b*j+c*k)\n",
    "            r2_temp = r2_score(temp_test_reset[\"true\"], pd.DataFrame(ensemble_value))\n",
    "            rmse_temp = np.sqrt(mean_squared_error(temp_test_reset[\"true\"], pd.DataFrame(ensemble_value)))\n",
    "            if rmse_temp<best_ensemble_value['Best_RMSE']:\n",
    "                best_ensemble_value['Best_RMSE'] = rmse_temp\n",
    "                best_ensemble_value['R_2_Score'] = r2_temp\n",
    "                best_ensemble_value['DNN_ratio'] = k\n",
    "                best_ensemble_value['XGB_ratio'] = i\n",
    "                best_ensemble_value['LGB_ratio'] = j\n",
    "                best_ensemble_value['mod4_Ensemble'] = ensemble_value\n",
    "                \n",
    "temp_test_reset['mod4_Ensemble'] = best_ensemble_value['mod4_Ensemble']\n",
    "temp_test_reset.to_csv('./output/train_predicted_value_three_models.csv', index=None)\n",
    "print('Best Ratio for LGB {}, Best Ratio for XGB {}, Best Ratio for DNN {}, '.format(\n",
    "    best_ensemble_value['LGB_ratio'], best_ensemble_value['XGB_ratio'], best_ensemble_value['DNN_ratio']))"
   ]
  },
  {
   "cell_type": "code",
   "execution_count": 7,
   "metadata": {
    "ExecuteTime": {
     "end_time": "2019-05-04T17:17:54.742932Z",
     "start_time": "2019-05-04T17:17:54.696055Z"
    }
   },
   "outputs": [],
   "source": [
    "def prediction_summary(df, filter_feature=None, lb=0, ub=10^10):\n",
    "    if filter_feature is not None:\n",
    "        df = df[(df[filter_feature]>=lb)&(df[filter_feature]<=ub)]\n",
    "    \n",
    "    cols  = [i for i in df.columns if 'mod' in i]\n",
    "\n",
    "    from sklearn.metrics import r2_score\n",
    "    from sklearn.metrics import mean_squared_error\n",
    "    from scipy.stats import skew\n",
    "\n",
    "    row_name = ['R^2', 'RMSE', 'Slope',  'Intercept' ,'Skewness']\n",
    "\n",
    "    label = 'true'\n",
    "    temp_value =[ [] for i in (cols)]\n",
    "    for ind, feature in enumerate(cols):\n",
    "        temp_value[ind].append(r2_score(df[label], df[feature]))\n",
    "        temp_value[ind].append(np.sqrt(mean_squared_error(df[label], df[feature])))\n",
    "        from sklearn.linear_model import LinearRegression\n",
    "        reg = LinearRegression().fit(df[label].values.reshape(-1, 1), df[feature])\n",
    "        temp_value[ind].append(reg.coef_[0])\n",
    "        temp_value[ind].append(reg.intercept_ )\n",
    "        temp_value[ind].append(skew(df[feature]))\n",
    "    temp_table = pd.DataFrame(temp_value).T\n",
    "    temp_table.columns=cols\n",
    "    temp_table.index=row_name\n",
    "    return temp_table"
   ]
  },
  {
   "cell_type": "code",
   "execution_count": 8,
   "metadata": {
    "ExecuteTime": {
     "end_time": "2019-05-04T17:17:55.959588Z",
     "start_time": "2019-05-04T17:17:55.902740Z"
    }
   },
   "outputs": [
    {
     "data": {
      "text/html": [
       "<div>\n",
       "<style>\n",
       "    .dataframe thead tr:only-child th {\n",
       "        text-align: right;\n",
       "    }\n",
       "\n",
       "    .dataframe thead th {\n",
       "        text-align: left;\n",
       "    }\n",
       "\n",
       "    .dataframe tbody tr th {\n",
       "        vertical-align: top;\n",
       "    }\n",
       "</style>\n",
       "<table border=\"1\" class=\"dataframe\">\n",
       "  <thead>\n",
       "    <tr style=\"text-align: right;\">\n",
       "      <th></th>\n",
       "      <th>mod1_XGB</th>\n",
       "      <th>mod2_LGB</th>\n",
       "      <th>mod3_DNN</th>\n",
       "      <th>mod4_Ensemble</th>\n",
       "    </tr>\n",
       "  </thead>\n",
       "  <tbody>\n",
       "    <tr>\n",
       "      <th>R^2</th>\n",
       "      <td>0.702371</td>\n",
       "      <td>0.704045</td>\n",
       "      <td>0.606260</td>\n",
       "      <td>0.706234</td>\n",
       "    </tr>\n",
       "    <tr>\n",
       "      <th>RMSE</th>\n",
       "      <td>4.895509</td>\n",
       "      <td>4.881717</td>\n",
       "      <td>5.630729</td>\n",
       "      <td>4.863634</td>\n",
       "    </tr>\n",
       "    <tr>\n",
       "      <th>Slope</th>\n",
       "      <td>0.711287</td>\n",
       "      <td>0.703709</td>\n",
       "      <td>0.646191</td>\n",
       "      <td>0.700230</td>\n",
       "    </tr>\n",
       "    <tr>\n",
       "      <th>Intercept</th>\n",
       "      <td>9.410128</td>\n",
       "      <td>9.673814</td>\n",
       "      <td>11.087822</td>\n",
       "      <td>9.736109</td>\n",
       "    </tr>\n",
       "    <tr>\n",
       "      <th>Skewness</th>\n",
       "      <td>-0.537003</td>\n",
       "      <td>-0.522229</td>\n",
       "      <td>2.194413</td>\n",
       "      <td>-0.468072</td>\n",
       "    </tr>\n",
       "  </tbody>\n",
       "</table>\n",
       "</div>"
      ],
      "text/plain": [
       "           mod1_XGB  mod2_LGB   mod3_DNN  mod4_Ensemble\n",
       "R^2        0.702371  0.704045   0.606260       0.706234\n",
       "RMSE       4.895509  4.881717   5.630729       4.863634\n",
       "Slope      0.711287  0.703709   0.646191       0.700230\n",
       "Intercept  9.410128  9.673814  11.087822       9.736109\n",
       "Skewness  -0.537003 -0.522229   2.194413      -0.468072"
      ]
     },
     "execution_count": 8,
     "metadata": {},
     "output_type": "execute_result"
    },
    {
     "data": {
      "text/html": [
       "<div>\n",
       "<style>\n",
       "    .dataframe thead tr:only-child th {\n",
       "        text-align: right;\n",
       "    }\n",
       "\n",
       "    .dataframe thead th {\n",
       "        text-align: left;\n",
       "    }\n",
       "\n",
       "    .dataframe tbody tr th {\n",
       "        vertical-align: top;\n",
       "    }\n",
       "</style>\n",
       "<table border=\"1\" class=\"dataframe\">\n",
       "  <thead>\n",
       "    <tr style=\"text-align: right;\">\n",
       "      <th></th>\n",
       "      <th>mod1_XGB</th>\n",
       "      <th>mod2_LGB</th>\n",
       "      <th>mod3_DNN</th>\n",
       "      <th>mod4_Ensemble</th>\n",
       "    </tr>\n",
       "  </thead>\n",
       "  <tbody>\n",
       "    <tr>\n",
       "      <th>R^2</th>\n",
       "      <td>0.718968</td>\n",
       "      <td>0.719757</td>\n",
       "      <td>0.591151</td>\n",
       "      <td>0.721987</td>\n",
       "    </tr>\n",
       "    <tr>\n",
       "      <th>RMSE</th>\n",
       "      <td>4.318569</td>\n",
       "      <td>4.312500</td>\n",
       "      <td>5.208872</td>\n",
       "      <td>4.295310</td>\n",
       "    </tr>\n",
       "    <tr>\n",
       "      <th>Slope</th>\n",
       "      <td>0.724980</td>\n",
       "      <td>0.719440</td>\n",
       "      <td>0.686511</td>\n",
       "      <td>0.717809</td>\n",
       "    </tr>\n",
       "    <tr>\n",
       "      <th>Intercept</th>\n",
       "      <td>9.288792</td>\n",
       "      <td>9.472042</td>\n",
       "      <td>9.946837</td>\n",
       "      <td>9.464546</td>\n",
       "    </tr>\n",
       "    <tr>\n",
       "      <th>Skewness</th>\n",
       "      <td>-0.535323</td>\n",
       "      <td>-0.547914</td>\n",
       "      <td>2.682378</td>\n",
       "      <td>-0.482013</td>\n",
       "    </tr>\n",
       "  </tbody>\n",
       "</table>\n",
       "</div>"
      ],
      "text/plain": [
       "           mod1_XGB  mod2_LGB  mod3_DNN  mod4_Ensemble\n",
       "R^2        0.718968  0.719757  0.591151       0.721987\n",
       "RMSE       4.318569  4.312500  5.208872       4.295310\n",
       "Slope      0.724980  0.719440  0.686511       0.717809\n",
       "Intercept  9.288792  9.472042  9.946837       9.464546\n",
       "Skewness  -0.535323 -0.547914  2.682378      -0.482013"
      ]
     },
     "execution_count": 8,
     "metadata": {},
     "output_type": "execute_result"
    }
   ],
   "source": [
    "prediction_summary(temp_test_reset)\n",
    "prediction_summary(temp_test_reset,'t', 0,388)"
   ]
  },
  {
   "cell_type": "markdown",
   "metadata": {},
   "source": [
    "## output Test predicted result"
   ]
  },
  {
   "cell_type": "code",
   "execution_count": 9,
   "metadata": {
    "ExecuteTime": {
     "end_time": "2019-05-04T17:17:56.998876Z",
     "start_time": "2019-05-04T17:17:56.989859Z"
    }
   },
   "outputs": [],
   "source": [
    "test_result = pd.read_csv('./output/test_predicted_value_DNN.csv')\n",
    "test_result = test_result.rename(columns={'TRUE':'true'})"
   ]
  },
  {
   "cell_type": "code",
   "execution_count": 10,
   "metadata": {
    "ExecuteTime": {
     "end_time": "2019-05-04T17:17:57.141453Z",
     "start_time": "2019-05-04T17:17:57.000829Z"
    },
    "scrolled": true
   },
   "outputs": [],
   "source": [
    "# output test data for model XGBoost, LGBoost and DNN\n",
    "\n",
    "test_table = df_test[['pid', 't', 'month', label]].copy()\n",
    "test_table.reset_index(drop=True, inplace=True)\n",
    "test_table.rename(columns={'r_alsfrs_r_total':'true'},inplace=True)\n",
    "\n",
    "test_table['mod1_XGB'] = pd.DataFrame(test_predicted_XGB).T.mean(axis=1).values\n",
    "test_table['mod2_LGB'] = pd.DataFrame(test_predicted_LGB).T.mean(axis=1).values\n",
    "test_table['mod3_DNN'] = test_result['mod3_DNN']\n",
    "test_table['mod4_Ensemble'] = test_table['mod1_XGB']*best_ensemble_value['XGB_ratio']/10.0+test_table['mod2_LGB']*best_ensemble_value['LGB_ratio']/10.0+test_table['mod3_DNN']*best_ensemble_value['DNN_ratio']/10.0\n",
    "\n",
    "test_table.to_csv('./output/test_predicted_value_full_three_models.csv', index=None)"
   ]
  },
  {
   "cell_type": "code",
   "execution_count": 11,
   "metadata": {
    "ExecuteTime": {
     "end_time": "2019-05-04T17:17:59.379004Z",
     "start_time": "2019-05-04T17:17:59.346093Z"
    }
   },
   "outputs": [
    {
     "data": {
      "text/html": [
       "<div>\n",
       "<style>\n",
       "    .dataframe thead tr:only-child th {\n",
       "        text-align: right;\n",
       "    }\n",
       "\n",
       "    .dataframe thead th {\n",
       "        text-align: left;\n",
       "    }\n",
       "\n",
       "    .dataframe tbody tr th {\n",
       "        vertical-align: top;\n",
       "    }\n",
       "</style>\n",
       "<table border=\"1\" class=\"dataframe\">\n",
       "  <thead>\n",
       "    <tr style=\"text-align: right;\">\n",
       "      <th></th>\n",
       "      <th>mod1_XGB</th>\n",
       "      <th>mod2_LGB</th>\n",
       "      <th>mod3_DNN</th>\n",
       "      <th>mod4_Ensemble</th>\n",
       "    </tr>\n",
       "  </thead>\n",
       "  <tbody>\n",
       "    <tr>\n",
       "      <th>R^2</th>\n",
       "      <td>0.708915</td>\n",
       "      <td>0.712676</td>\n",
       "      <td>0.716304</td>\n",
       "      <td>0.716652</td>\n",
       "    </tr>\n",
       "    <tr>\n",
       "      <th>RMSE</th>\n",
       "      <td>4.624555</td>\n",
       "      <td>4.594582</td>\n",
       "      <td>4.565478</td>\n",
       "      <td>4.562683</td>\n",
       "    </tr>\n",
       "    <tr>\n",
       "      <th>Slope</th>\n",
       "      <td>0.615760</td>\n",
       "      <td>0.628845</td>\n",
       "      <td>0.681550</td>\n",
       "      <td>0.630190</td>\n",
       "    </tr>\n",
       "    <tr>\n",
       "      <th>Intercept</th>\n",
       "      <td>13.799003</td>\n",
       "      <td>13.348846</td>\n",
       "      <td>11.068111</td>\n",
       "      <td>13.255820</td>\n",
       "    </tr>\n",
       "    <tr>\n",
       "      <th>Skewness</th>\n",
       "      <td>-0.496531</td>\n",
       "      <td>-0.455746</td>\n",
       "      <td>-0.043621</td>\n",
       "      <td>-0.425983</td>\n",
       "    </tr>\n",
       "  </tbody>\n",
       "</table>\n",
       "</div>"
      ],
      "text/plain": [
       "            mod1_XGB   mod2_LGB   mod3_DNN  mod4_Ensemble\n",
       "R^2         0.708915   0.712676   0.716304       0.716652\n",
       "RMSE        4.624555   4.594582   4.565478       4.562683\n",
       "Slope       0.615760   0.628845   0.681550       0.630190\n",
       "Intercept  13.799003  13.348846  11.068111      13.255820\n",
       "Skewness   -0.496531  -0.455746  -0.043621      -0.425983"
      ]
     },
     "execution_count": 11,
     "metadata": {},
     "output_type": "execute_result"
    },
    {
     "data": {
      "text/html": [
       "<div>\n",
       "<style>\n",
       "    .dataframe thead tr:only-child th {\n",
       "        text-align: right;\n",
       "    }\n",
       "\n",
       "    .dataframe thead th {\n",
       "        text-align: left;\n",
       "    }\n",
       "\n",
       "    .dataframe tbody tr th {\n",
       "        vertical-align: top;\n",
       "    }\n",
       "</style>\n",
       "<table border=\"1\" class=\"dataframe\">\n",
       "  <thead>\n",
       "    <tr style=\"text-align: right;\">\n",
       "      <th></th>\n",
       "      <th>mod1_XGB</th>\n",
       "      <th>mod2_LGB</th>\n",
       "      <th>mod3_DNN</th>\n",
       "      <th>mod4_Ensemble</th>\n",
       "    </tr>\n",
       "  </thead>\n",
       "  <tbody>\n",
       "    <tr>\n",
       "      <th>R^2</th>\n",
       "      <td>0.710737</td>\n",
       "      <td>0.714819</td>\n",
       "      <td>0.717937</td>\n",
       "      <td>0.718768</td>\n",
       "    </tr>\n",
       "    <tr>\n",
       "      <th>RMSE</th>\n",
       "      <td>4.568425</td>\n",
       "      <td>4.536081</td>\n",
       "      <td>4.511212</td>\n",
       "      <td>4.504561</td>\n",
       "    </tr>\n",
       "    <tr>\n",
       "      <th>Slope</th>\n",
       "      <td>0.614346</td>\n",
       "      <td>0.627868</td>\n",
       "      <td>0.682713</td>\n",
       "      <td>0.629296</td>\n",
       "    </tr>\n",
       "    <tr>\n",
       "      <th>Intercept</th>\n",
       "      <td>13.896699</td>\n",
       "      <td>13.430359</td>\n",
       "      <td>11.063012</td>\n",
       "      <td>13.333526</td>\n",
       "    </tr>\n",
       "    <tr>\n",
       "      <th>Skewness</th>\n",
       "      <td>-0.489267</td>\n",
       "      <td>-0.449631</td>\n",
       "      <td>-0.036975</td>\n",
       "      <td>-0.419022</td>\n",
       "    </tr>\n",
       "  </tbody>\n",
       "</table>\n",
       "</div>"
      ],
      "text/plain": [
       "            mod1_XGB   mod2_LGB   mod3_DNN  mod4_Ensemble\n",
       "R^2         0.710737   0.714819   0.717937       0.718768\n",
       "RMSE        4.568425   4.536081   4.511212       4.504561\n",
       "Slope       0.614346   0.627868   0.682713       0.629296\n",
       "Intercept  13.896699  13.430359  11.063012      13.333526\n",
       "Skewness   -0.489267  -0.449631  -0.036975      -0.419022"
      ]
     },
     "execution_count": 11,
     "metadata": {},
     "output_type": "execute_result"
    }
   ],
   "source": [
    "prediction_summary(test_table)\n",
    "prediction_summary(test_table,'t', 0,388)"
   ]
  }
 ],
 "metadata": {
  "kernelspec": {
   "display_name": "Python 3",
   "language": "python",
   "name": "python3"
  },
  "language_info": {
   "codemirror_mode": {
    "name": "ipython",
    "version": 3
   },
   "file_extension": ".py",
   "mimetype": "text/x-python",
   "name": "python",
   "nbconvert_exporter": "python",
   "pygments_lexer": "ipython3",
   "version": "3.6.2"
  },
  "latex_envs": {
   "LaTeX_envs_menu_present": true,
   "autoclose": false,
   "autocomplete": true,
   "bibliofile": "biblio.bib",
   "cite_by": "apalike",
   "current_citInitial": 1,
   "eqLabelWithNumbers": true,
   "eqNumInitial": 1,
   "hotkeys": {
    "equation": "Ctrl-E",
    "itemize": "Ctrl-I"
   },
   "labels_anchors": false,
   "latex_user_defs": false,
   "report_style_numbering": false,
   "user_envs_cfg": false
  },
  "toc": {
   "base_numbering": 1,
   "nav_menu": {},
   "number_sections": true,
   "sideBar": true,
   "skip_h1_title": false,
   "title_cell": "Table of Contents",
   "title_sidebar": "Contents",
   "toc_cell": true,
   "toc_position": {},
   "toc_section_display": true,
   "toc_window_display": false
  },
  "varInspector": {
   "cols": {
    "lenName": 16,
    "lenType": 16,
    "lenVar": 40
   },
   "kernels_config": {
    "python": {
     "delete_cmd_postfix": "",
     "delete_cmd_prefix": "del ",
     "library": "var_list.py",
     "varRefreshCmd": "print(var_dic_list())"
    },
    "r": {
     "delete_cmd_postfix": ") ",
     "delete_cmd_prefix": "rm(",
     "library": "var_list.r",
     "varRefreshCmd": "cat(var_dic_list()) "
    }
   },
   "oldHeight": 364.090454,
   "position": {
    "height": "385.534px",
    "left": "370.364px",
    "right": "20px",
    "top": "95px",
    "width": "699.523px"
   },
   "types_to_exclude": [
    "module",
    "function",
    "builtin_function_or_method",
    "instance",
    "_Feature"
   ],
   "varInspector_section_display": "block",
   "window_display": false
  }
 },
 "nbformat": 4,
 "nbformat_minor": 2
}
