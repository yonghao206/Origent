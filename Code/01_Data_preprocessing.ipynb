{
 "cells": [
  {
   "cell_type": "markdown",
   "metadata": {
    "toc": true
   },
   "source": [
    "<h1>Table of Contents<span class=\"tocSkip\"></span></h1>\n",
    "<div class=\"toc\"><ul class=\"toc-item\"><li><span><a href=\"#Basic-Info-and-Remove-Unneceassry-Features\" data-toc-modified-id=\"Basic-Info-and-Remove-Unneceassry-Features-1\"><span class=\"toc-item-num\">1&nbsp;&nbsp;</span>Basic Info and Remove Unneceassry Features</a></span></li><li><span><a href=\"#Create-New-features-for-Data\" data-toc-modified-id=\"Create-New-features-for-Data-2\"><span class=\"toc-item-num\">2&nbsp;&nbsp;</span>Create New features for Data</a></span></li><li><span><a href=\"#Fill-Missing-Values-with-mode-and-median\" data-toc-modified-id=\"Fill-Missing-Values-with-mode-and-median-3\"><span class=\"toc-item-num\">3&nbsp;&nbsp;</span>Fill Missing Values with mode and median</a></span></li></ul></div>"
   ]
  },
  {
   "cell_type": "markdown",
   "metadata": {},
   "source": [
    "## Basic Info and Remove Unneceassry Features"
   ]
  },
  {
   "cell_type": "code",
   "execution_count": 1,
   "metadata": {
    "ExecuteTime": {
     "end_time": "2019-05-04T17:04:23.702989Z",
     "start_time": "2019-05-04T17:04:22.250873Z"
    }
   },
   "outputs": [],
   "source": [
    "import numpy as np\n",
    "import pandas as pd\n",
    "import warnings\n",
    "import os\n",
    "warnings.filterwarnings(\"ignore\")\n",
    "\n",
    "# data visualization\n",
    "import matplotlib.pyplot as plt\n",
    "import seaborn as sns\n",
    "\n",
    "%matplotlib inline"
   ]
  },
  {
   "cell_type": "code",
   "execution_count": 2,
   "metadata": {
    "ExecuteTime": {
     "end_time": "2019-05-04T17:04:23.711966Z",
     "start_time": "2019-05-04T17:04:23.705981Z"
    }
   },
   "outputs": [],
   "source": [
    "dtypes = {'pid' :'category',\n",
    " 'f_male_bl':'category',\n",
    " 'race_bl':'category',\n",
    " 'ethnic_bl':'category',\n",
    " 'f_onset_bulbar_bl':'category',\n",
    " 'f_onset_limb_bl':'category',\n",
    " 'f_onset_spine_bl':'category',\n",
    " 'f_riluzole_bl':'category',\n",
    " 'f_study_drug_bl':'category',\n",
    " 'visit':'category'}"
   ]
  },
  {
   "cell_type": "code",
   "execution_count": 3,
   "metadata": {
    "ExecuteTime": {
     "end_time": "2019-05-04T17:04:24.835957Z",
     "start_time": "2019-05-04T17:04:23.713960Z"
    }
   },
   "outputs": [],
   "source": [
    "path = './input'\n",
    "ep_train = pd.read_csv(path+'/internal_adep_proact.csv', index_col=0, dtype = dtypes)\n",
    "bl_train=pd.read_csv(path+'/internal_adbl_proact.csv', index_col=0,dtype = dtypes)\n",
    "\n",
    "ep_test = pd.read_csv(path+'/external_adep_proact.csv', index_col=0, dtype = dtypes)\n",
    "bl_test=pd.read_csv(path+'/external_adbl_proact.csv', index_col=0,dtype = dtypes)\n",
    "\n",
    "train = pd.merge(ep_train, bl_train, how='left')\n",
    "test = pd.merge(ep_test, bl_test, how='left')\n",
    "label = 'r_alsfrs_r_total'"
   ]
  },
  {
   "cell_type": "code",
   "execution_count": 4,
   "metadata": {
    "ExecuteTime": {
     "end_time": "2019-05-04T17:04:26.948369Z",
     "start_time": "2019-05-04T17:04:24.837953Z"
    }
   },
   "outputs": [],
   "source": [
    "# remove outliers for test data\n",
    "test = test[test.pid!='609374']\n",
    "test = test[test.pid!='164690']\n",
    "test = test[test.pid!='674622']\n",
    "\n",
    "for idx in ['r1_dyspnea_bl', 'r2_orthopnea_bl',  'r3_respiratory_insufficiency_bl']:\n",
    "    test[idx] = test.q10_respiratory_bl\n",
    "    \n",
    "test.r_alsfrs_r_total = test.r_alsfrs_r_total.fillna(method='bfill')\n",
    "pid_error =[]\n",
    "for i in set(test.pid):\n",
    "    try:\n",
    "        test.loc[test['pid'] == i, 'alsfrs_r_total_bl'] =test[(test.pid==i )& (test.t==0)]['r_alsfrs_r_total'].values[0]\n",
    "    except:\n",
    "        pid_error.append(i)\n",
    "        \n",
    "for i in pid_error:\n",
    "    test.loc[test['pid'] == i, 'alsfrs_r_total_bl'] =test[(test.pid==i )]['r_alsfrs_r_total'].values[0]"
   ]
  },
  {
   "cell_type": "code",
   "execution_count": 5,
   "metadata": {
    "ExecuteTime": {
     "end_time": "2019-05-04T17:04:27.531803Z",
     "start_time": "2019-05-04T17:04:26.951357Z"
    }
   },
   "outputs": [],
   "source": [
    "# remove outlier for train data\n",
    "## remove values without r_alsfrs_r_total \n",
    "remove_pid = train.groupby('pid').sum()['r_alsfrs_r_total'][train.groupby('pid').sum()['r_alsfrs_r_total'].isnull()].index.tolist()\n",
    "train = train[~train.pid.isin(remove_pid)]\n",
    "# assign values for train when t is less than 50 and r_alsfrs_r_total is missing values \n",
    "train.loc[(train.t<50)&(train.r_alsfrs_r_total.isnull()), 'r_alsfrs_r_total'] =  train.loc[(train.t<50)&(train.r_alsfrs_r_total.isnull()), 'alsfrs_r_total_bl'].values\n",
    "train = train[~(train.r_alsfrs_r_total.isnull())]\n",
    "train = train[~train.alsfrs_r_total_bl.isnull()]\n",
    "train = train[~train.q5_cutting_bl.isnull()]\n",
    "\n",
    "# set(train[train.alsfrs_r_total_bl.isnull()][['pid', 't', 'r_alsfrs_r_total', 'alsfrs_r_total_bl']].pid.values)"
   ]
  },
  {
   "cell_type": "code",
   "execution_count": 6,
   "metadata": {
    "ExecuteTime": {
     "end_time": "2019-05-04T17:04:27.666445Z",
     "start_time": "2019-05-04T17:04:27.533799Z"
    }
   },
   "outputs": [],
   "source": [
    "# combine test and train dataset\n",
    "train['set']=1\n",
    "test['set']=0\n",
    "\n",
    "df = pd.concat([train, test])"
   ]
  },
  {
   "cell_type": "code",
   "execution_count": 7,
   "metadata": {
    "ExecuteTime": {
     "end_time": "2019-05-04T17:04:27.772161Z",
     "start_time": "2019-05-04T17:04:27.668439Z"
    }
   },
   "outputs": [],
   "source": [
    "# remove unnecessary features  from list(df).index(\"f_visit_vc\") to list(df).index(\"r_alsfrs_r_total_derived\")\n",
    "\n",
    "cols = range(3, 37)\n",
    "df.drop(df.columns[cols],axis=1,inplace=True) # remove unrelated features\n",
    "\n",
    "# remove features in list columns\n",
    "columns = ['alsfrs_total_comb_bl','alsfrs_r_total_comb_bl','alsfrs_r_total_derived_bl']\n",
    "df.drop(columns, inplace=True, axis=1)\n",
    "\n",
    "#remove features in list columns\n",
    "columns=['alsfrs_total_bl','resp_preslope_bl','q10_respiratory_bl','ethnic_bl',\n",
    "'uric_acid_bl', 'phosphorus_bl','resp_rate_bl','temp_C_bl','vc_preslope_bl',\n",
    "'pexp_vc_bl','bmi_bl','height_cm_bl','exp_vc_bl']  \n",
    "df.drop(columns, inplace=True, axis=1)"
   ]
  },
  {
   "cell_type": "markdown",
   "metadata": {},
   "source": [
    "## Create New features for Data"
   ]
  },
  {
   "cell_type": "code",
   "execution_count": 8,
   "metadata": {
    "ExecuteTime": {
     "end_time": "2019-05-04T17:04:27.900816Z",
     "start_time": "2019-05-04T17:04:27.774156Z"
    }
   },
   "outputs": [],
   "source": [
    "# create feature month\n",
    "l = df.t/30\n",
    "month = [int(x) for x in l]\n",
    "df['month'] = month\n",
    "\n",
    "# remove  missing values which have over 20 missing values for each sample\n",
    "df.drop(df[(df.isnull().sum(axis=1)>20)].index, inplace=True)"
   ]
  },
  {
   "cell_type": "code",
   "execution_count": 9,
   "metadata": {
    "ExecuteTime": {
     "end_time": "2019-05-04T17:04:28.131200Z",
     "start_time": "2019-05-04T17:04:27.902813Z"
    },
    "scrolled": true
   },
   "outputs": [],
   "source": [
    "# combine feature spine, limb and onset into a new feature and convert it into a value \n",
    "for i in ['f_onset_spine_bl', 'f_onset_limb_bl', 'f_onset_bulbar_bl']:\n",
    "    df[i] = df[i].astype(str)\n",
    "\n",
    "df['Type_spine_limb_bulbar'] = df['f_onset_spine_bl'].apply(lambda x: str(int(x))) + df['f_onset_limb_bl'].apply(lambda x: str(int(x)))+  df['f_onset_bulbar_bl'].apply(lambda x: str(int(x)))\n",
    "df.Type_spine_limb_bulbar = df.Type_spine_limb_bulbar.astype('category')\n",
    "for i in ['f_onset_spine_bl', 'f_onset_limb_bl', 'f_onset_bulbar_bl']:\n",
    "    df[i] = df[i].astype('category')\n",
    "\n",
    "#  convert the new feature 'Type_spine_limb_bulbar' into limb bulbar  or combination\n",
    "# new feature is 'onest'\n",
    "def transf(x):\n",
    "    x = x\n",
    "    if x[1]=='1' and x[2] =='0':\n",
    "        return 'limb'\n",
    "    elif x[1]=='0' and x[2] =='1':\n",
    "        return 'bulbar'\n",
    "    else:\n",
    "        return 'combination' \n",
    "\n",
    "df['onset'] = df.Type_spine_limb_bulbar.apply(transf)\n",
    "df['onset'] = df['onset'].astype('category')\n",
    "\n",
    "# remove related four features \n",
    "df.drop(['f_onset_bulbar_bl', 'f_onset_limb_bl', 'f_onset_spine_bl', 'Type_spine_limb_bulbar'], axis=1, inplace=True)"
   ]
  },
  {
   "cell_type": "code",
   "execution_count": 10,
   "metadata": {
    "ExecuteTime": {
     "end_time": "2019-05-04T17:04:28.167105Z",
     "start_time": "2019-05-04T17:04:28.134193Z"
    }
   },
   "outputs": [],
   "source": [
    "# create some features related with t\n",
    "df['days_disease_tillNow'] = df['t'] - df['onset_days_bl'] #  how many days they got the disease 已经得了多少天的病了\n",
    "\n",
    "df['years_disease'] = (df.days_disease_tillNow/365).round(2) # how many years they got the disease 得了多少天病转化为年\n",
    "df['month_disease'] = (df.days_disease_tillNow/30).round(1)  # how many months they got the disease 得了多少天病转化为月\n",
    "\n",
    "df['age_disease_year'] = (df.age_yr_bl - df.days_disease_tillNow/365).round() # age when they got the disease 得病时多少岁\n",
    "\n",
    "df['age_bin'] = pd.cut(df['age_disease_year'], [0,40, 70,100]) # "
   ]
  },
  {
   "cell_type": "code",
   "execution_count": 11,
   "metadata": {
    "ExecuteTime": {
     "end_time": "2019-05-04T17:04:28.185058Z",
     "start_time": "2019-05-04T17:04:28.170097Z"
    }
   },
   "outputs": [],
   "source": [
    "# change data type \n",
    "df.race_bl = df.race_bl.astype('category')\n",
    "df.f_riluzole_bl = df.f_riluzole_bl.astype('category')\n"
   ]
  },
  {
   "cell_type": "code",
   "execution_count": 12,
   "metadata": {
    "ExecuteTime": {
     "end_time": "2019-05-04T17:04:28.364576Z",
     "start_time": "2019-05-04T17:04:28.188050Z"
    }
   },
   "outputs": [],
   "source": [
    "# transform OHE for feature race_bl, race_bl and rop\n",
    "dummies = pd.get_dummies(df['race_bl']).rename(columns=lambda x: 'race_bl' + str(x))\n",
    "df = pd.concat([df, dummies], axis=1)\n",
    "df = df.drop(['race_bl'], axis=1)\n",
    "dummies = pd.get_dummies(df['onset']).rename(columns=lambda x: 'onset' + str(x))\n",
    "df = pd.concat([df, dummies], axis=1)\n",
    "df = df.drop(['onset'], axis=1)"
   ]
  },
  {
   "cell_type": "markdown",
   "metadata": {},
   "source": [
    "## Fill Missing Values with mode and median"
   ]
  },
  {
   "cell_type": "code",
   "execution_count": 13,
   "metadata": {
    "ExecuteTime": {
     "end_time": "2019-05-04T17:04:28.553072Z",
     "start_time": "2019-05-04T17:04:28.367569Z"
    }
   },
   "outputs": [],
   "source": [
    "# fill in missing values with mode and median values for category and continuous variables separately \n",
    "columns_category = df.dtypes[df.dtypes=='category'].index.tolist()\n",
    "columns_continuous = df.dtypes[df.dtypes !='category'].index.tolist()\n",
    "for i in columns_category:\n",
    "    df[i] = df[i].fillna(df[i].mode()[0])\n",
    "for i in columns_continuous:\n",
    "    df[i] = df[i].fillna(df[i].median())\n",
    "    \n",
    "\n",
    "# convert category features into one hot encoding and remove related features\n",
    "categoryColumns_processed = [ 'f_male_bl', 'f_riluzole_bl', 'f_study_drug_bl', 'age_bin']\n",
    "df_pro = df.copy()\n",
    "\n",
    "\n",
    "df_pro = pd.concat([df_pro, pd.get_dummies(df_pro[categoryColumns_processed])], axis=1)\n",
    "df_pro.drop(categoryColumns_processed, axis=1, inplace=True)\n",
    "df_pro.rename(columns={'age_bin_(0, 40]': 'age_0040',  'age_bin_(40, 70]':'age_4070', 'age_bin_(70, 100]':'age_00100'},inplace=True)\n",
    "\n",
    "label = 'r_alsfrs_r_total'\n",
    "feature_selected = df_pro.columns.tolist()\n",
    "feature_selected.remove('pid')\n",
    "feature_selected.remove('r_alsfrs_r_total')\n",
    "feature_selected.remove('set')\n",
    "# df_pro['diff'] = df_pro['']"
   ]
  },
  {
   "cell_type": "code",
   "execution_count": 14,
   "metadata": {
    "ExecuteTime": {
     "end_time": "2019-05-04T17:04:31.693672Z",
     "start_time": "2019-05-04T17:04:28.555067Z"
    },
    "code_folding": []
   },
   "outputs": [],
   "source": [
    "# output  data\n",
    "#\n",
    "if not os.path.exists('./output'):\n",
    "        os.makedirs('./output')  \n",
    "df_pro.to_csv('./output/data_processed_0411.csv', index=None) # save processed data"
   ]
  }
 ],
 "metadata": {
  "kernelspec": {
   "display_name": "Python 3",
   "language": "python",
   "name": "python3"
  },
  "language_info": {
   "codemirror_mode": {
    "name": "ipython",
    "version": 3
   },
   "file_extension": ".py",
   "mimetype": "text/x-python",
   "name": "python",
   "nbconvert_exporter": "python",
   "pygments_lexer": "ipython3",
   "version": "3.6.2"
  },
  "latex_envs": {
   "LaTeX_envs_menu_present": true,
   "autoclose": false,
   "autocomplete": true,
   "bibliofile": "biblio.bib",
   "cite_by": "apalike",
   "current_citInitial": 1,
   "eqLabelWithNumbers": true,
   "eqNumInitial": 1,
   "hotkeys": {
    "equation": "Ctrl-E",
    "itemize": "Ctrl-I"
   },
   "labels_anchors": false,
   "latex_user_defs": false,
   "report_style_numbering": false,
   "user_envs_cfg": false
  },
  "toc": {
   "base_numbering": 1,
   "nav_menu": {},
   "number_sections": true,
   "sideBar": true,
   "skip_h1_title": false,
   "title_cell": "Table of Contents",
   "title_sidebar": "Contents",
   "toc_cell": true,
   "toc_position": {},
   "toc_section_display": true,
   "toc_window_display": false
  },
  "varInspector": {
   "cols": {
    "lenName": 16,
    "lenType": 16,
    "lenVar": 40
   },
   "kernels_config": {
    "python": {
     "delete_cmd_postfix": "",
     "delete_cmd_prefix": "del ",
     "library": "var_list.py",
     "varRefreshCmd": "print(var_dic_list())"
    },
    "r": {
     "delete_cmd_postfix": ") ",
     "delete_cmd_prefix": "rm(",
     "library": "var_list.r",
     "varRefreshCmd": "cat(var_dic_list()) "
    }
   },
   "oldHeight": 364.090454,
   "position": {
    "height": "385.525px",
    "left": "774.362px",
    "right": "20px",
    "top": "192px",
    "width": "699.513px"
   },
   "types_to_exclude": [
    "module",
    "function",
    "builtin_function_or_method",
    "instance",
    "_Feature"
   ],
   "varInspector_section_display": "block",
   "window_display": false
  }
 },
 "nbformat": 4,
 "nbformat_minor": 2
}
